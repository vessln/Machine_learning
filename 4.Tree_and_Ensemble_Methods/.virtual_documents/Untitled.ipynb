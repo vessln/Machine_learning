%matplotlib inline


import numpy as np
import pandas as pd
import matplotlib.pyplot as plt
import seaborn as sns

from sklearn.datasets import load_iris

from sklearn.tree import DecisionTreeClassifier, plot_tree








data = load_iris()


attributes = data.data
target = data.target


tree = DecisionTreeClassifier()



