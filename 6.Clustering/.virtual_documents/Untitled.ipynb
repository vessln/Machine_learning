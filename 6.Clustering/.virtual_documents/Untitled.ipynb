%matplotlib inline


import numpy as np
import pandas as pd
import matplotlib.pyplot as plt

from sklearn.svm import LinearSVC
from sklearn.linear_model import SGDClassifier








for chunk in pd.read_csv("../5.Support_Vector_Machines/data/pulsar_stars.csv", chunksize=1000):
    print(chunk[" Mean of the integrated profile"].max(), chunk[" Mean of the integrated profile"].min())


svm = LinearSVC()


# SGDClassifier is equivalent to LinearSVC:
sgd = SGDClassifier(max_iter = 1000)


for chunk in pd.read_csv("../5.Support_Vector_Machines/data/pulsar_stars.csv", chunksize=1000):
    X = chunk.drop(columns = "target_class")
    y = chunk["target_class"]
    print(X.shape)

    # svm.partial_fit(X, y) -> this is impossible
    
    sgd.partial_fit(X, y, classes = y.unique())
    # sgd.fit(X, y) # reset learning in each iteration


sgd.coef_









