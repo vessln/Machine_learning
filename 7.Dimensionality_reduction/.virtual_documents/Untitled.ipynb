%matplotlib inline


import numpy as np
import pandas as pd
import matplotlib.pyplot as plt

from sklearn.datasets import load_iris

from sklearn.model_selection import train_test_split

from sklearn.decomposition import PCA











iris = load_iris()


iris_attributes = iris["data"]
iris_targets = iris["target"]


X_train, X_test, y_train, y_test = train_test_split(iris_attributes, iris_targets, random_state = 42, train_size = 0.80)



