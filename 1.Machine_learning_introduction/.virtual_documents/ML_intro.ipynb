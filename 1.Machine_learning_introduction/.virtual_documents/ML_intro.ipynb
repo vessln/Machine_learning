%matplotlib inline


import numpy as np
import pandas as pd
import matplotlib.pyplot as plt
import seaborn as sns





diabetic_data = pd.read_csv("data/diabetic_data.csv", na_values = ["?"])





diabetic_data.head()


diabetic_data.columns


diabetic_data.info()





diabetic_data.readmitted.unique()


diabetic_data.readmitted.value_counts()


diabetic_data.race.value_counts(dropna=False)


diabetic_data.gender.value_counts(dropna=False)


diabetic_data.age.value_counts(dropna=False)


# normalise age data (%):
diabetic_data.age.value_counts(dropna=False) / len(diabetic_data) * 100


# this column have high cardinality
diabetic_data.discharge_disposition_id.value_counts(dropna=False)


diabetic_data.metformin.value_counts(dropna=False)


diabetic_data.patient_nbr


# how many records there are for one patient:
diabetic_data.patient_nbr.nunique() / len(diabetic_data)


# how many visits patients have:
diabetic_data.patient_nbr.value_counts(dropna=False)


diabetic_data.patient_nbr.value_counts().hist(bins=50)
plt.show()





# check the patient that have 40 visits
diabetic_data[diabetic_data.patient_nbr == 88785891].sort_values(by="encounter_id").insulin






