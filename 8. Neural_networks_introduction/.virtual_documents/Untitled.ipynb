%matplotlib inline

import numpy as np
import pandas as pd
import matplotlib.pyplot as plt

from sklearn.linear_model import LogisticRegression, Perceptron, SGDClassifier
from sklearn.svm import LinearSVR
from sklearn.ensemble import VotingClassifier, StackingClassifier
from sklearn.neural_network import MLPClassifier

from sklearn.datasets import load_digits








log_reg = LogisticRegression()


log_reg = [LogisticRegression() for _ in range(20)]
log_reg


log_regs = [(f"log_regr_{i}", LogisticRegression()) for i in range(20)]


voting = VotingClassifier(log_regs)
voting


voting_classifiers = [(f"voting_{i}", VotingClassifier(log_regs)) for i in range(5)]


# one neural network:
StackingClassifier(voting_classifiers)





# the dimensions of the hidden layers
real_nn = MLPClassifier(hidden_layer_sizes = (3, 8, 15), max_iter = 5000)
real_nn


digits = load_digits()


digits_attributes, digits_classes = digits["data"], digits["target"]


real_nn.fit(digits_attributes, digits_classes)


type(real_nn.coefs_)


len(real_nn.coefs_) # the count layers like the 4-th is output


''' 
    (64, 3) - the matrix that describes the weight of all possible data to all 
    possible elements in the first layer. Each of the 3 layers includes one bias term.
'''
real_nn.coefs_[0].shape


real_nn.intercepts_


real_nn.coefs_[2].shape  # input : output


real_nn.predict(digits_attributes[:20])


# for each record all probabilities
real_nn.predict_proba(digits_attributes[:20]) 









