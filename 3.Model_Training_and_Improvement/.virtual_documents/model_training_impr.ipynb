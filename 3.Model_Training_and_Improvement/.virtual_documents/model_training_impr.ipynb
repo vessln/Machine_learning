%matplotlib inline


import numpy as np
import pandas as pd
import matplotlib.pyplot as plt
import seaborn as sns

import pickle

from sklearn.pipeline import Pipeline
from sklearn.compose import ColumnTransformer

from sklearn.preprocessing import MinMaxScaler, OneHotEncoder, FunctionTransformer

from sklearn.linear_model import LogisticRegression, Lasso, Ridge, ElasticNet





diabetic_data = pd.read_csv("data/diabetic_data.csv")


diabetic_data


diabetic_data.info()


diabetic_data.columns[diabetic_data.columns.str.contains("_id")]


diabetic_data.miglitol.unique()











pd.get_dummies(diabetic_data, drop_first = True).head()


diabetic_attributes = diabetic_data.drop(columns = "readmitted")
diabetic_attributes_dummies = pd.get_dummies(diabetic_attributes)
diabetic_target = diabetic_data.readmitted


logistic_regression = LogisticRegression()


logistic_regression.fit(diabetic_attributes_dummies, diabetic_target)


logistic_regression.score(diabetic_attributes_dummies, diabetic_target)


logistic_regression.coef_








scaler = MinMaxScaler()


diabetic_attributes_dummies_scaled = scaler.fit_transform(diabetic_attributes_dummies)


pipeline = Pipeline([
    ("scaler", MinMaxScaler()),
    ("model", LogisticRegression())
])


pipeline





sample_data = diabetic_data.sample(5000, random_state=42)


sample_data_attrs = sample_data.drop(columns = "readmitted")


sample_data_target = sample_data.readmitted


sample_data_attrs_dummies = pd.get_dummies(sample_data_attrs)


pipeline.fit(sample_data_attrs_dummies, sample_data_target)








ohe = OneHotEncoder()


ohe.fit(sample_data_attrs)


ohe.feature_names_in_


# ohe.categories_


cat_columns = sample_data.dtypes[sample_data.dtypes == np.object_].index.values


cat_columns = obj_columns[:-1]


cat_columns


num_columns = [
    'admission_type_id', 'discharge_disposition_id','time_in_hospital', 'num_lab_procedures', 'num_procedures',
    'num_medications', 'number_outpatient', 'number_emergency', 'number_inpatient', 'number_diagnoses']


preprocessor = ColumnTransformer([
    ("categorical_features", OneHotEncoder(), cat_columns),
    ("numerical_features", MinMaxScaler(), num_columns),
], remainder = "passthrough")


# remainder = “drop” – deletes the columns not specified in the transformers (by default)
# remainder = “passthrough” – remain as they are;


preprocessor





log_transfomer = FunctionTransformer(np.log10)


EPS = 1e-10


# transformator for numerical columns, which i use in the main preprocessor:
number_processor = Pipeline([
    ("log_transfomer", FunctionTransformer(lambda x: np.log10(x + EPS))),
    ("min_max", MinMaxScaler((-5, 5)))
])


number_processor


preprocessor = ColumnTransformer([
    ("categorical", OneHotEncoder(), cat_columns),
    ("numerical", number_processor, num_columns)
])


preprocessor


pipeline = Pipeline([
    ("preprocessor", preprocessor),
    ("classifier", LogisticRegression())
])





pipeline


sample_attributes = sample_data.drop(columns = "readmitted")


sample_target = sample_data.readmitted


pipeline.fit(sample_attributes, sample_target)


pipeline.score(sample_data_attrs, sample_data_target)





pipeline.steps[0][1]


pipeline.steps[0][1].feature_names_in_





# test with logistic_regression
with open("logistic_regression.pkl", "wb") as file:   # "wb" - write binary
    pickle.dump(logistic_regression, file)





# pipeline.predict(diabetic_attributes.sample(10))


diabetes_data2 = pd.read_csv("data/diabetic_data.csv")


sample_data2 = diabetes_data2.sample(5000, random_state = 123)


sample_attrs2 = sample_data2.drop(columns = "readmitted")


sample_target2 = sample_data2.readmitted


pipeline.fit(sample_attrs2, sample_target2)

















# L1 = 6 (= alpha * l1_ratio),  L2 = 1.5
# alpha = a + b  and  l1_ratio = a / (a + b)
ElasticNet(alpha = 1.5, l1_ratio = 4)


# penalty=None - dont make regularization
LogisticRegression(penalty = None)






