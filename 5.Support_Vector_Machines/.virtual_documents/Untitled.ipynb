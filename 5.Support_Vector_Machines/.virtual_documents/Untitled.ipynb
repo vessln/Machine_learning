%matplotlib inline


import numpy as np
import pandas as pd
import matplotlib.pyplot as plt
import seaborn as sns

from sklearn.datasets import load_iris, load_digits









